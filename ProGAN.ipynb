{
 "cells": [
  {
   "cell_type": "code",
   "execution_count": 3,
   "id": "b794dc88",
   "metadata": {},
   "outputs": [],
   "source": [
    "import torch\n",
    "from torch import nn\n",
    "import torch.nn.functional as F\n",
    "from math import log2\n",
    "import torchvision\n",
    "\n"
   ]
  },
  {
   "cell_type": "code",
   "execution_count": null,
   "id": "93a3d8e1",
   "metadata": {},
   "outputs": [],
   "source": [
    "class Generator(nn.Module):\n",
    "    def __init__(self):\n",
    "        self.input_block = nn.Sequential(nn.Conv2d(3, 512, 4),\n",
    "                                         nn.LeakyReLU(0.2),\n",
    "                                         nn.Conv2d(512, 512, 3)\n",
    "                                         nn.LeakyReLU(0.2),\n",
    "                                        )\n",
    "        self.block_8 = self.make_block()\n",
    "        self.block_16 = self.make_block()\n",
    "        self.block_32 = self.make_block()\n",
    "        self.block_64 = self.make_block()\n",
    "        self.block_128 = self.make_block()\n",
    "        self.block_128 = self.make_block()\n",
    "        \n",
    "    def make_block(self):\n",
    "        return nn.Sequential(nn.UpsamplingNearest2d(scale_factor=2),\n",
    "                             nn.Conv2d(512, 512, 3),\n",
    "                             nn.LeakyReLU(0.2),\n",
    "                             nn.Conv2d(512, 512, 3),\n",
    "                             nn.LeakyReLU(0.2)\n",
    "                            )\n",
    "    \n",
    "class Discriminator(nn.Module):\n",
    "    def\n",
    "\n",
    "class ProGAN:\n",
    "    def __init__(self, g: nn.Module, d: nn.Module):\n",
    "        "
   ]
  },
  {
   "cell_type": "code",
   "execution_count": 13,
   "id": "af6ae431",
   "metadata": {},
   "outputs": [
    {
     "name": "stderr",
     "output_type": "stream",
     "text": [
      "C:\\Users\\Vincent\\AppData\\Local\\Temp\\ipykernel_24568\\731319185.py:8: DeprecationWarning: executable_path has been deprecated, please pass in a Service object\n",
      "  driver = webdriver.Chrome(driver_path)\n"
     ]
    },
    {
     "data": {
      "text/plain": [
       "<selenium.webdriver.remote.webelement.WebElement (session=\"aa465673eccba86a96b792e446b2ed3e\", element=\"A1A9A55B78F395CA16E239D88E3522F5_element_7\")>"
      ]
     },
     "execution_count": 13,
     "metadata": {},
     "output_type": "execute_result"
    }
   ],
   "source": []
  }
 ],
 "metadata": {
  "kernelspec": {
   "display_name": "Python 3 (ipykernel)",
   "language": "python",
   "name": "python3"
  },
  "language_info": {
   "codemirror_mode": {
    "name": "ipython",
    "version": 3
   },
   "file_extension": ".py",
   "mimetype": "text/x-python",
   "name": "python",
   "nbconvert_exporter": "python",
   "pygments_lexer": "ipython3",
   "version": "3.10.9"
  }
 },
 "nbformat": 4,
 "nbformat_minor": 5
}
